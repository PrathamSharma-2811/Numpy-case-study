{
 "cells": [
  {
   "cell_type": "code",
   "execution_count": 1,
   "id": "8320736b",
   "metadata": {},
   "outputs": [],
   "source": [
    "import numpy as np\n",
    "import random "
   ]
  },
  {
   "cell_type": "code",
   "execution_count": 2,
   "id": "1748795e",
   "metadata": {},
   "outputs": [
    {
     "data": {
      "text/plain": [
       "array([1301, 1302, 1303, ..., 2299, 2300, 2301])"
      ]
     },
     "execution_count": 2,
     "metadata": {},
     "output_type": "execute_result"
    }
   ],
   "source": [
    "movie_id = np.arange(start = 1301,stop =2302 )\n",
    "movie_id"
   ]
  },
  {
   "cell_type": "code",
   "execution_count": 3,
   "id": "0fd6ccb9",
   "metadata": {},
   "outputs": [
    {
     "data": {
      "text/plain": [
       "array([  1,   2,   3,   4,   5,   6,   7,   8,   9,  10,  11,  12,  13,\n",
       "        14,  15,  16,  17,  18,  19,  20,  21,  22,  23,  24,  25,  26,\n",
       "        27,  28,  29,  30,  31,  32,  33,  34,  35,  36,  37,  38,  39,\n",
       "        40,  41,  42,  43,  44,  45,  46,  47,  48,  49,  50,  51,  52,\n",
       "        53,  54,  55,  56,  57,  58,  59,  60,  61,  62,  63,  64,  65,\n",
       "        66,  67,  68,  69,  70,  71,  72,  73,  74,  75,  76,  77,  78,\n",
       "        79,  80,  81,  82,  83,  84,  85,  86,  87,  88,  89,  90,  91,\n",
       "        92,  93,  94,  95,  96,  97,  98,  99, 100])"
      ]
     },
     "execution_count": 3,
     "metadata": {},
     "output_type": "execute_result"
    }
   ],
   "source": [
    "user_id = np.arange(start =1,stop =101)\n",
    "user_id"
   ]
  },
  {
   "cell_type": "code",
   "execution_count": 4,
   "id": "473d354f",
   "metadata": {},
   "outputs": [],
   "source": [
    "user_id_matrix = np.vstack(user_id)\n",
    "\n",
    "\n"
   ]
  },
  {
   "cell_type": "code",
   "execution_count": 5,
   "id": "fa78a283",
   "metadata": {},
   "outputs": [
    {
     "data": {
      "text/plain": [
       "(100, 1)"
      ]
     },
     "execution_count": 5,
     "metadata": {},
     "output_type": "execute_result"
    }
   ],
   "source": [
    "user_id_matrix.shape"
   ]
  },
  {
   "cell_type": "code",
   "execution_count": 6,
   "id": "170b6624",
   "metadata": {},
   "outputs": [
    {
     "data": {
      "text/plain": [
       "array([1301, 1302, 1303, ..., 2299, 2300, 2301])"
      ]
     },
     "execution_count": 6,
     "metadata": {},
     "output_type": "execute_result"
    }
   ],
   "source": [
    "movie_id_matrix= np.hstack(movie_id)\n",
    "movie_id_matrix"
   ]
  },
  {
   "cell_type": "code",
   "execution_count": 7,
   "id": "2ea43e91",
   "metadata": {},
   "outputs": [
    {
     "data": {
      "text/plain": [
       "(1001,)"
      ]
     },
     "execution_count": 7,
     "metadata": {},
     "output_type": "execute_result"
    }
   ],
   "source": [
    "movie_id_matrix.shape"
   ]
  },
  {
   "cell_type": "code",
   "execution_count": 8,
   "id": "1532635f",
   "metadata": {},
   "outputs": [
    {
     "data": {
      "text/plain": [
       "array([[1301],\n",
       "       [1302],\n",
       "       [1303],\n",
       "       ...,\n",
       "       [2299],\n",
       "       [2300],\n",
       "       [2301]])"
      ]
     },
     "execution_count": 8,
     "metadata": {},
     "output_type": "execute_result"
    }
   ],
   "source": [
    "a = np.hsplit(movie_id_matrix,1001)\n",
    "np.sort(a)"
   ]
  },
  {
   "cell_type": "code",
   "execution_count": 9,
   "id": "765d0cec",
   "metadata": {},
   "outputs": [
    {
     "data": {
      "text/plain": [
       "array([[1301, 1302, 1303, ..., 2299, 2300, 2301]])"
      ]
     },
     "execution_count": 9,
     "metadata": {},
     "output_type": "execute_result"
    }
   ],
   "source": [
    "arr_movieid = np.array(a).reshape(1,-1)\n",
    "arr_movieid"
   ]
  },
  {
   "cell_type": "code",
   "execution_count": 10,
   "id": "7d4457b2",
   "metadata": {},
   "outputs": [
    {
     "data": {
      "text/plain": [
       "array([[-1, -1, -1, ..., -1, -1, -1],\n",
       "       [-1, -1, -1, ..., -1, -1, -1],\n",
       "       [-1, -1, -1, ..., -1, -1, -1],\n",
       "       ...,\n",
       "       [-1, -1, -1, ..., -1, -1, -1],\n",
       "       [-1, -1, -1, ..., -1, -1, -1],\n",
       "       [-1, -1, -1, ..., -1, -1, -1]])"
      ]
     },
     "execution_count": 10,
     "metadata": {},
     "output_type": "execute_result"
    }
   ],
   "source": [
    "null_matrix = np.full(fill_value=-1,shape=(100,1000))\n",
    "null_matrix\n"
   ]
  },
  {
   "cell_type": "code",
   "execution_count": null,
   "id": "0c7de034",
   "metadata": {},
   "outputs": [],
   "source": []
  },
  {
   "cell_type": "code",
   "execution_count": 11,
   "id": "f34d7d94",
   "metadata": {},
   "outputs": [],
   "source": [
    "for i in range(100):\n",
    "    \n",
    "    numberof_movies_byuser = np.random.randint(0,1000)\n",
    "    \n",
    "    index_of_movie_rated = np.random.randint(0,1000,size = numberof_movies_byuser)\n",
    "    \n",
    "    ratings_by_user = np.random.randint(0,11,size= numberof_movies_byuser)\n",
    "    \n",
    "    \n",
    "    for j in range(numberof_movies_byuser):\n",
    "        \n",
    "        null_matrix[i][index_of_movie_rated[j]] = ratings_by_user[j]"
   ]
  },
  {
   "cell_type": "code",
   "execution_count": 12,
   "id": "a3ea5c3f",
   "metadata": {},
   "outputs": [
    {
     "data": {
      "text/plain": [
       "array([[10, -1, -1, ...,  1, -1, 10],\n",
       "       [ 4, -1, -1, ..., -1, -1, -1],\n",
       "       [ 1, -1, -1, ..., -1,  5,  5],\n",
       "       ...,\n",
       "       [10, -1, -1, ...,  3,  6,  2],\n",
       "       [-1, -1,  1, ..., -1,  6, -1],\n",
       "       [-1, -1, -1, ..., -1, -1, -1]])"
      ]
     },
     "execution_count": 12,
     "metadata": {},
     "output_type": "execute_result"
    }
   ],
   "source": [
    "null_matrix"
   ]
  },
  {
   "cell_type": "code",
   "execution_count": 13,
   "id": "104ed3e0",
   "metadata": {},
   "outputs": [],
   "source": [
    "new_null_arr = np.full(fill_value=-1,shape=(10,1000))"
   ]
  },
  {
   "cell_type": "code",
   "execution_count": 14,
   "id": "b56bf1d2",
   "metadata": {},
   "outputs": [],
   "source": [
    "for i in range(10):\n",
    "    \n",
    "    numberof_movies_byuser = np.random.randint(0,1000)\n",
    "    \n",
    "    index_of_movie_rated = np.random.randint(0,1000,size = numberof_movies_byuser)\n",
    "    \n",
    "    ratings_by_user = np.random.randint(0,11,size= numberof_movies_byuser)\n",
    "    \n",
    "    \n",
    "    for j in range(numberof_movies_byuser):\n",
    "        \n",
    "        new_null_arr[i][index_of_movie_rated[j]] = ratings_by_user[j]"
   ]
  },
  {
   "cell_type": "code",
   "execution_count": 15,
   "id": "71a71ade",
   "metadata": {},
   "outputs": [
    {
     "data": {
      "text/plain": [
       "array([[-1, -1,  7, ..., -1, -1, -1],\n",
       "       [-1, -1, -1, ..., -1, -1, -1],\n",
       "       [-1, -1, -1, ..., -1, -1, -1],\n",
       "       ...,\n",
       "       [-1, -1,  2, ..., -1,  0, -1],\n",
       "       [-1, -1, -1, ..., -1, -1,  0],\n",
       "       [-1, -1, -1, ..., -1, -1,  9]])"
      ]
     },
     "execution_count": 15,
     "metadata": {},
     "output_type": "execute_result"
    }
   ],
   "source": [
    "new_null_arr"
   ]
  },
  {
   "cell_type": "code",
   "execution_count": 16,
   "id": "4c1c685b",
   "metadata": {},
   "outputs": [],
   "source": [
    "final_joined_arr = np.concatenate([null_matrix,new_null_arr],axis = 0)"
   ]
  },
  {
   "cell_type": "code",
   "execution_count": 17,
   "id": "86c2998d",
   "metadata": {},
   "outputs": [
    {
     "data": {
      "text/plain": [
       "(110, 1000)"
      ]
     },
     "execution_count": 17,
     "metadata": {},
     "output_type": "execute_result"
    }
   ],
   "source": [
    "final_joined_arr.shape"
   ]
  },
  {
   "cell_type": "code",
   "execution_count": null,
   "id": "f48db707",
   "metadata": {},
   "outputs": [],
   "source": []
  },
  {
   "cell_type": "code",
   "execution_count": 18,
   "id": "7421c38f",
   "metadata": {},
   "outputs": [
    {
     "data": {
      "text/plain": [
       "(110, 1000)"
      ]
     },
     "execution_count": 18,
     "metadata": {},
     "output_type": "execute_result"
    }
   ],
   "source": [
    "final_joined_arr.shape\n"
   ]
  },
  {
   "cell_type": "code",
   "execution_count": 19,
   "id": "128d7b20",
   "metadata": {},
   "outputs": [
    {
     "data": {
      "text/plain": [
       "array([2302, 2303, 2304, 2305, 2306, 2307, 2308, 2309, 2310, 2311, 2312,\n",
       "       2313, 2314, 2315, 2316, 2317, 2318, 2319, 2320, 2321, 2322, 2323,\n",
       "       2324, 2325, 2326, 2327, 2328, 2329, 2330, 2331, 2332, 2333, 2334,\n",
       "       2335, 2336, 2337, 2338, 2339, 2340, 2341, 2342, 2343, 2344, 2345,\n",
       "       2346, 2347, 2348, 2349, 2350])"
      ]
     },
     "execution_count": 19,
     "metadata": {},
     "output_type": "execute_result"
    }
   ],
   "source": [
    "more_50_movieID = np.arange(2302,2351)\n",
    "more_50_movieID"
   ]
  },
  {
   "cell_type": "code",
   "execution_count": 20,
   "id": "abfa60fd",
   "metadata": {},
   "outputs": [],
   "source": [
    "new_movie_id = np.concatenate([movie_id_matrix,more_50_movieID],axis = 0)"
   ]
  },
  {
   "cell_type": "code",
   "execution_count": 21,
   "id": "2728663a",
   "metadata": {},
   "outputs": [
    {
     "data": {
      "text/plain": [
       "(110, 50)"
      ]
     },
     "execution_count": 21,
     "metadata": {},
     "output_type": "execute_result"
    }
   ],
   "source": [
    "new_null_arr_extra =np.full(fill_value=-1,shape=(110,50))\n",
    "new_null_arr_extra.shape"
   ]
  },
  {
   "cell_type": "code",
   "execution_count": 22,
   "id": "589c5e78",
   "metadata": {},
   "outputs": [],
   "source": [
    "for i in range(110):\n",
    "    \n",
    "    numberof_movies_byuser = np.random.randint(0,50)\n",
    "    \n",
    "    index_of_movie_rated = np.random.randint(0,50,size = numberof_movies_byuser)\n",
    "    \n",
    "    ratings_by_user = np.random.randint(0,11,size= numberof_movies_byuser)\n",
    "    \n",
    "    \n",
    "    for j in range(numberof_movies_byuser):\n",
    "        \n",
    "        new_null_arr_extra[i][index_of_movie_rated[j]] = ratings_by_user[j]"
   ]
  },
  {
   "cell_type": "code",
   "execution_count": 23,
   "id": "5238ea9e",
   "metadata": {},
   "outputs": [
    {
     "data": {
      "text/plain": [
       "(110, 50)"
      ]
     },
     "execution_count": 23,
     "metadata": {},
     "output_type": "execute_result"
    }
   ],
   "source": [
    "new_null_arr_extra.shape"
   ]
  },
  {
   "cell_type": "code",
   "execution_count": 24,
   "id": "f9c28708",
   "metadata": {},
   "outputs": [
    {
     "data": {
      "text/plain": [
       "array([[10., -1., -1., ..., -1., -1., -1.],\n",
       "       [ 4., -1., -1., ..., -1., -1., -1.],\n",
       "       [ 1., -1., -1., ..., -1., -1., -1.],\n",
       "       ...,\n",
       "       [-1., -1.,  2., ..., 10., -1.,  4.],\n",
       "       [-1., -1., -1., ...,  2., 10., -1.],\n",
       "       [-1., -1., -1., ..., 10., -1.,  5.]])"
      ]
     },
     "execution_count": 24,
     "metadata": {},
     "output_type": "execute_result"
    }
   ],
   "source": [
    "final_joined_arr_2 = np.concatenate([final_joined_arr,new_null_arr_extra],axis = 1,dtype =\"float\")\n",
    "final_joined_arr_2"
   ]
  },
  {
   "cell_type": "code",
   "execution_count": 25,
   "id": "66de4100",
   "metadata": {},
   "outputs": [
    {
     "data": {
      "text/plain": [
       "(110, 1050)"
      ]
     },
     "execution_count": 25,
     "metadata": {},
     "output_type": "execute_result"
    }
   ],
   "source": [
    "final_joined_arr_2.shape"
   ]
  },
  {
   "cell_type": "markdown",
   "id": "53e9793a",
   "metadata": {},
   "source": [
    "The final_joined_arr2 contains the ratings from 100 users + 10 experts. Each rating was given randomly to random movies\n"
   ]
  },
  {
   "cell_type": "markdown",
   "id": "3132c215",
   "metadata": {},
   "source": [
    "Now finding average ratings\n"
   ]
  },
  {
   "cell_type": "code",
   "execution_count": 26,
   "id": "c76af602",
   "metadata": {},
   "outputs": [],
   "source": [
    "final_joined_arr_2[final_joined_arr_2 ==-1] =np.nan"
   ]
  },
  {
   "cell_type": "code",
   "execution_count": 27,
   "id": "ee12f773",
   "metadata": {},
   "outputs": [],
   "source": [
    "avg_rating_matrix = np.nanmean(final_joined_arr_2,axis = 0)"
   ]
  },
  {
   "cell_type": "code",
   "execution_count": 28,
   "id": "9cb3df5f",
   "metadata": {},
   "outputs": [
    {
     "data": {
      "text/plain": [
       "array([5.05      , 4.4       , 5.24324324, ..., 5.51282051, 5.85714286,\n",
       "       3.97727273])"
      ]
     },
     "execution_count": 28,
     "metadata": {},
     "output_type": "execute_result"
    }
   ],
   "source": [
    "avg_rating_matrix"
   ]
  },
  {
   "cell_type": "code",
   "execution_count": 29,
   "id": "23b51d9a",
   "metadata": {},
   "outputs": [],
   "source": [
    "std_rating_matrix = np.nanstd(final_joined_arr_2,axis = 0)"
   ]
  },
  {
   "cell_type": "code",
   "execution_count": 30,
   "id": "a46e035e",
   "metadata": {},
   "outputs": [
    {
     "data": {
      "text/plain": [
       "array([3.28595496, 3.22667454, 3.14002415, ..., 3.35789765, 2.94045209,\n",
       "       3.06363299])"
      ]
     },
     "execution_count": 30,
     "metadata": {},
     "output_type": "execute_result"
    }
   ],
   "source": [
    "std_rating_matrix"
   ]
  },
  {
   "cell_type": "code",
   "execution_count": 31,
   "id": "7c2fa310",
   "metadata": {},
   "outputs": [],
   "source": [
    "count_rating = final_joined_arr_2.shape[0] - np.sum(np.isnan(final_joined_arr_2),axis=0)"
   ]
  },
  {
   "cell_type": "code",
   "execution_count": 32,
   "id": "87f142c9",
   "metadata": {
    "scrolled": true
   },
   "outputs": [
    {
     "data": {
      "text/plain": [
       "(1050,)"
      ]
     },
     "execution_count": 32,
     "metadata": {},
     "output_type": "execute_result"
    }
   ],
   "source": [
    "count_rating.shape\n",
    "new_movie_id.shape"
   ]
  },
  {
   "cell_type": "code",
   "execution_count": 33,
   "id": "ff9e6e40",
   "metadata": {},
   "outputs": [],
   "source": [
    "final_joined_arr_2 = np.vstack([new_movie_id,avg_rating_matrix,std_rating_matrix,count_rating])"
   ]
  },
  {
   "cell_type": "code",
   "execution_count": 34,
   "id": "d8e8e65c",
   "metadata": {},
   "outputs": [
    {
     "data": {
      "text/plain": [
       "array([[1301.        , 1302.        , 1303.        , ..., 2348.        ,\n",
       "        2349.        , 2350.        ],\n",
       "       [   5.05      ,    4.4       ,    5.24324324, ...,    5.51282051,\n",
       "           5.85714286,    3.97727273],\n",
       "       [   3.28595496,    3.22667454,    3.14002415, ...,    3.35789765,\n",
       "           2.94045209,    3.06363299],\n",
       "       [  40.        ,   35.        ,   37.        , ...,   39.        ,\n",
       "          42.        ,   44.        ]])"
      ]
     },
     "execution_count": 34,
     "metadata": {},
     "output_type": "execute_result"
    }
   ],
   "source": [
    "final_joined_arr_2"
   ]
  },
  {
   "cell_type": "code",
   "execution_count": 35,
   "id": "fa1c903c",
   "metadata": {},
   "outputs": [
    {
     "data": {
      "text/plain": [
       "(4, 1050)"
      ]
     },
     "execution_count": 35,
     "metadata": {},
     "output_type": "execute_result"
    }
   ],
   "source": [
    "final_joined_arr_2.shape"
   ]
  },
  {
   "cell_type": "code",
   "execution_count": 36,
   "id": "0eaf83be",
   "metadata": {},
   "outputs": [],
   "source": [
    "final_joined_arr_2 = final_joined_arr_2.transpose()"
   ]
  },
  {
   "cell_type": "code",
   "execution_count": 37,
   "id": "4a2c43e4",
   "metadata": {},
   "outputs": [
    {
     "data": {
      "text/plain": [
       "(1050, 4)"
      ]
     },
     "execution_count": 37,
     "metadata": {},
     "output_type": "execute_result"
    }
   ],
   "source": [
    "final_joined_arr_2.shape"
   ]
  },
  {
   "cell_type": "code",
   "execution_count": 38,
   "id": "939fd2ea",
   "metadata": {},
   "outputs": [],
   "source": [
    "import pandas as pd"
   ]
  },
  {
   "cell_type": "code",
   "execution_count": 39,
   "id": "43c72dff",
   "metadata": {},
   "outputs": [
    {
     "data": {
      "text/html": [
       "<div>\n",
       "<style scoped>\n",
       "    .dataframe tbody tr th:only-of-type {\n",
       "        vertical-align: middle;\n",
       "    }\n",
       "\n",
       "    .dataframe tbody tr th {\n",
       "        vertical-align: top;\n",
       "    }\n",
       "\n",
       "    .dataframe thead th {\n",
       "        text-align: right;\n",
       "    }\n",
       "</style>\n",
       "<table border=\"1\" class=\"dataframe\">\n",
       "  <thead>\n",
       "    <tr style=\"text-align: right;\">\n",
       "      <th></th>\n",
       "      <th>Movie_ID</th>\n",
       "      <th>Average_Rating</th>\n",
       "      <th>Standard_deviation_Rating</th>\n",
       "      <th>Count_of_Ratings_Given</th>\n",
       "    </tr>\n",
       "  </thead>\n",
       "  <tbody>\n",
       "    <tr>\n",
       "      <th>0</th>\n",
       "      <td>1301.0</td>\n",
       "      <td>5.050000</td>\n",
       "      <td>3.285955</td>\n",
       "      <td>40.0</td>\n",
       "    </tr>\n",
       "    <tr>\n",
       "      <th>1</th>\n",
       "      <td>1302.0</td>\n",
       "      <td>4.400000</td>\n",
       "      <td>3.226675</td>\n",
       "      <td>35.0</td>\n",
       "    </tr>\n",
       "    <tr>\n",
       "      <th>2</th>\n",
       "      <td>1303.0</td>\n",
       "      <td>5.243243</td>\n",
       "      <td>3.140024</td>\n",
       "      <td>37.0</td>\n",
       "    </tr>\n",
       "    <tr>\n",
       "      <th>3</th>\n",
       "      <td>1304.0</td>\n",
       "      <td>5.600000</td>\n",
       "      <td>2.835489</td>\n",
       "      <td>40.0</td>\n",
       "    </tr>\n",
       "    <tr>\n",
       "      <th>4</th>\n",
       "      <td>1305.0</td>\n",
       "      <td>4.375000</td>\n",
       "      <td>3.253364</td>\n",
       "      <td>40.0</td>\n",
       "    </tr>\n",
       "    <tr>\n",
       "      <th>...</th>\n",
       "      <td>...</td>\n",
       "      <td>...</td>\n",
       "      <td>...</td>\n",
       "      <td>...</td>\n",
       "    </tr>\n",
       "    <tr>\n",
       "      <th>1045</th>\n",
       "      <td>2346.0</td>\n",
       "      <td>4.976744</td>\n",
       "      <td>3.259964</td>\n",
       "      <td>43.0</td>\n",
       "    </tr>\n",
       "    <tr>\n",
       "      <th>1046</th>\n",
       "      <td>2347.0</td>\n",
       "      <td>4.947368</td>\n",
       "      <td>3.068922</td>\n",
       "      <td>38.0</td>\n",
       "    </tr>\n",
       "    <tr>\n",
       "      <th>1047</th>\n",
       "      <td>2348.0</td>\n",
       "      <td>5.512821</td>\n",
       "      <td>3.357898</td>\n",
       "      <td>39.0</td>\n",
       "    </tr>\n",
       "    <tr>\n",
       "      <th>1048</th>\n",
       "      <td>2349.0</td>\n",
       "      <td>5.857143</td>\n",
       "      <td>2.940452</td>\n",
       "      <td>42.0</td>\n",
       "    </tr>\n",
       "    <tr>\n",
       "      <th>1049</th>\n",
       "      <td>2350.0</td>\n",
       "      <td>3.977273</td>\n",
       "      <td>3.063633</td>\n",
       "      <td>44.0</td>\n",
       "    </tr>\n",
       "  </tbody>\n",
       "</table>\n",
       "<p>1050 rows × 4 columns</p>\n",
       "</div>"
      ],
      "text/plain": [
       "      Movie_ID  Average_Rating  Standard_deviation_Rating  \\\n",
       "0       1301.0        5.050000                   3.285955   \n",
       "1       1302.0        4.400000                   3.226675   \n",
       "2       1303.0        5.243243                   3.140024   \n",
       "3       1304.0        5.600000                   2.835489   \n",
       "4       1305.0        4.375000                   3.253364   \n",
       "...        ...             ...                        ...   \n",
       "1045    2346.0        4.976744                   3.259964   \n",
       "1046    2347.0        4.947368                   3.068922   \n",
       "1047    2348.0        5.512821                   3.357898   \n",
       "1048    2349.0        5.857143                   2.940452   \n",
       "1049    2350.0        3.977273                   3.063633   \n",
       "\n",
       "      Count_of_Ratings_Given  \n",
       "0                       40.0  \n",
       "1                       35.0  \n",
       "2                       37.0  \n",
       "3                       40.0  \n",
       "4                       40.0  \n",
       "...                      ...  \n",
       "1045                    43.0  \n",
       "1046                    38.0  \n",
       "1047                    39.0  \n",
       "1048                    42.0  \n",
       "1049                    44.0  \n",
       "\n",
       "[1050 rows x 4 columns]"
      ]
     },
     "execution_count": 39,
     "metadata": {},
     "output_type": "execute_result"
    }
   ],
   "source": [
    "pd.DataFrame(final_joined_arr_2,columns=['Movie_ID','Average_Rating','Standard_deviation_Rating','Count_of_Ratings_Given'])"
   ]
  },
  {
   "cell_type": "code",
   "execution_count": 40,
   "id": "30d7b32e",
   "metadata": {},
   "outputs": [],
   "source": [
    "final_joined_arr_2 = np.sort(final_joined_arr_2,axis= 0)"
   ]
  },
  {
   "cell_type": "markdown",
   "id": "398cf72a",
   "metadata": {},
   "source": [
    "# Bonus Question"
   ]
  },
  {
   "cell_type": "code",
   "execution_count": 41,
   "id": "799ec68d",
   "metadata": {},
   "outputs": [
    {
     "data": {
      "text/plain": [
       "array([[1.30100000e+03, 3.47222222e+00, 2.27901422e+00, 2.30000000e+01],\n",
       "       [1.30200000e+03, 3.50000000e+00, 2.36985462e+00, 2.50000000e+01],\n",
       "       [1.30300000e+03, 3.51282051e+00, 2.41091269e+00, 2.60000000e+01],\n",
       "       ...,\n",
       "       [2.34800000e+03, 6.33333333e+00, 3.74749309e+00, 5.10000000e+01],\n",
       "       [2.34900000e+03, 6.43243243e+00, 3.79322705e+00, 5.10000000e+01],\n",
       "       [2.35000000e+03, 6.43243243e+00, 3.87120471e+00, 5.10000000e+01]])"
      ]
     },
     "execution_count": 41,
     "metadata": {},
     "output_type": "execute_result"
    }
   ],
   "source": [
    "final_joined_arr_2"
   ]
  },
  {
   "cell_type": "code",
   "execution_count": 42,
   "id": "214aa092",
   "metadata": {},
   "outputs": [],
   "source": [
    "np.save(\"Numpy case study Result.npy\",final_joined_arr_2)"
   ]
  },
  {
   "cell_type": "code",
   "execution_count": null,
   "id": "794713ef",
   "metadata": {},
   "outputs": [],
   "source": []
  }
 ],
 "metadata": {
  "kernelspec": {
   "display_name": "Python 3 (ipykernel)",
   "language": "python",
   "name": "python3"
  },
  "language_info": {
   "codemirror_mode": {
    "name": "ipython",
    "version": 3
   },
   "file_extension": ".py",
   "mimetype": "text/x-python",
   "name": "python",
   "nbconvert_exporter": "python",
   "pygments_lexer": "ipython3",
   "version": "3.10.0"
  }
 },
 "nbformat": 4,
 "nbformat_minor": 5
}
